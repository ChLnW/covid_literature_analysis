{
 "cells": [
  {
   "cell_type": "code",
   "execution_count": 1,
   "metadata": {},
   "outputs": [],
   "source": [
    "import pandas as pd\n",
    "from bs4 import BeautifulSoup\n",
    "from os.path import exists\n",
    "import json\n",
    "from collections import defaultdict\n"
   ]
  },
  {
   "cell_type": "code",
   "execution_count": null,
   "metadata": {},
   "outputs": [],
   "source": [
    "labelMap = pd.read_csv('./newLabelMappingModified.csv', header=None, engine='python')\n",
    "hasMap = labelMap[~labelMap[1].isnull()]\n",
    "map1 = {k:v for k, v in zip(hasMap[0], hasMap[1])}\n",
    "if exists('./LabelInverseMapping.json'):\n",
    "   with open('./LabelInverseMapping.json', 'r') as f:\n",
    "      map2 = json.load(f)\n",
    "else:\n",
    "   map2 = defaultdict(lambda: [])\n",
    "   for k, v in zip(hasMap[0], hasMap[1]):\n",
    "      map2[v].append(k)\n",
    "   for v in labelMap[labelMap[1].isnull()][0]:\n",
    "      map2[v]\n",
    "   with open('./LabelInverseMapping.json', 'w') as f:\n",
    "      json.dump(map2,f,indent=3)"
   ]
  },
  {
   "cell_type": "code",
   "execution_count": null,
   "metadata": {},
   "outputs": [],
   "source": [
    "subjectMap = pd.read_csv('./label_categorized_modified.csv', header=None, engine='python')\n",
    "subjectMap[1] = subjectMap[1].apply(eval)\n",
    "map3 = {k:v for k,v in zip(subjectMap[0], subjectMap[1])}\n",
    "def mapSubjects(subs):\n",
    "   res = set()\n",
    "   for s in subs:\n",
    "      res.update(map3[s])\n",
    "   for l in list(res):\n",
    "      if l in map1:\n",
    "         res.add(map1[l])\n",
    "   return list(res)\n",
    "# map3"
   ]
  },
  {
   "cell_type": "code",
   "execution_count": 8,
   "metadata": {},
   "outputs": [
    {
     "data": {
      "text/plain": [
       "(Index(['abstract', 'subject', 'title'], dtype='object'), (558643, 3))"
      ]
     },
     "execution_count": 8,
     "metadata": {},
     "output_type": "execute_result"
    }
   ],
   "source": [
    "data = pd.read_csv('./english_covid_articles.tsv', delimiter='\\t', usecols=['subject', 'abstract', 'title'])\n",
    "data['title'] = data['title'].apply(lambda x: eval(x[1:-1]))\n",
    "parse = lambda s: eval(s) if type(s)==str else s\n",
    "data['subject'] = data['subject'].apply(parse)\n",
    "parse = lambda t: BeautifulSoup(t, 'html.parser').text if type(t)==str else t\n",
    "data['abstract'] = data['abstract'].apply(parse)\n",
    "\n",
    "parse = lambda s: mapSubjects(s) if type(s)==list else s\n",
    "data['label'] = data['subject'].apply(parse)\n",
    "\n",
    "data.columns, data.shape"
   ]
  },
  {
   "cell_type": "code",
   "execution_count": 11,
   "metadata": {},
   "outputs": [],
   "source": [
    "data.to_csv('./parsedAbstract.csv', index=False)"
   ]
  },
  {
   "cell_type": "code",
   "execution_count": 14,
   "metadata": {},
   "outputs": [],
   "source": [
    "labeled = data[~(data['subject'].isnull())]"
   ]
  },
  {
   "cell_type": "code",
   "execution_count": 19,
   "metadata": {},
   "outputs": [],
   "source": [
    "labeled.to_csv('abstractLabeled.csv', index=False)"
   ]
  },
  {
   "cell_type": "code",
   "execution_count": 24,
   "metadata": {},
   "outputs": [],
   "source": [
    "labeled = pd.read_csv('./abstractLabeled.csv', na_filter=False)"
   ]
  },
  {
   "cell_type": "code",
   "execution_count": null,
   "metadata": {},
   "outputs": [],
   "source": []
  }
 ],
 "metadata": {
  "kernelspec": {
   "display_name": "base",
   "language": "python",
   "name": "python3"
  },
  "language_info": {
   "codemirror_mode": {
    "name": "ipython",
    "version": 3
   },
   "file_extension": ".py",
   "mimetype": "text/x-python",
   "name": "python",
   "nbconvert_exporter": "python",
   "pygments_lexer": "ipython3",
   "version": "3.10.9"
  },
  "orig_nbformat": 4
 },
 "nbformat": 4,
 "nbformat_minor": 2
}
